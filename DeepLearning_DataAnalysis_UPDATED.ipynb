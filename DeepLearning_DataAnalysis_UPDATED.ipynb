{
 "cells": [
  {
   "cell_type": "markdown",
   "metadata": {
    "id": "7guzFj5UC5CS"
   },
   "source": [
    "## Libraries Imports"
   ]
  },
  {
   "cell_type": "code",
   "execution_count": null,
   "metadata": {
    "id": "BbEW2g8Z_qwB"
   },
   "outputs": [],
   "source": [
    "import pandas as pd\n",
    "from sklearn.preprocessing import LabelEncoder\n",
    "import seaborn as sns\n",
    "from tqdm import tqdm\n",
    "from scipy.stats import ks_2samp\n",
    "import matplotlib.pyplot as plt\n",
    "import warnings\n",
    "import numpy as np\n",
    "warnings.filterwarnings('ignore', '.*do not.*', )"
   ]
  },
  {
   "cell_type": "markdown",
   "metadata": {
    "id": "YfTHC_2RJmkB"
   },
   "source": [
    "## Load data and display dataset's info"
   ]
  },
  {
   "cell_type": "code",
   "execution_count": null,
   "metadata": {
    "id": "NJ-h4Ku7_zwh"
   },
   "outputs": [],
   "source": [
    "data = pd.read_csv(\"compressed_dataset.csv\")"
   ]
  },
  {
   "cell_type": "code",
   "execution_count": null,
   "metadata": {
    "colab": {
     "base_uri": "https://localhost:8080/"
    },
    "id": "imHwDyzLASfG",
    "outputId": "27a37eb4-dea9-4d43-e8f8-d4359923c3f5"
   },
   "outputs": [],
   "source": [
    "data.info()"
   ]
  },
  {
   "cell_type": "code",
   "execution_count": null,
   "metadata": {
    "colab": {
     "base_uri": "https://localhost:8080/",
     "height": 206
    },
    "id": "PeOnqqM3AsYs",
    "outputId": "a3eff5e9-5c66-4003-8329-f9ee87ec7ff6"
   },
   "outputs": [],
   "source": [
    "data.head()"
   ]
  },
  {
   "cell_type": "markdown",
   "metadata": {
    "id": "_IRCvogMJvTr"
   },
   "source": [
    "## Change cateorical values to numerical and extract dates from timestamp"
   ]
  },
  {
   "cell_type": "code",
   "execution_count": null,
   "metadata": {
    "id": "OhCwbEEtAuz7"
   },
   "outputs": [],
   "source": [
    "labelencoder = LabelEncoder()\n",
    "data['viewer_type'] = labelencoder.fit_transform(data['viewer_type'])\n",
    "\n",
    "data['date/time'] = pd.to_datetime(data['timestamp'],unit = 'ms')\n",
    "data['date'] = data['date/time'].dt.date\n",
    "data['day_of_week'] = data['date/time'].dt.weekday"
   ]
  },
  {
   "cell_type": "code",
   "execution_count": null,
   "metadata": {
    "colab": {
     "base_uri": "https://localhost:8080/",
     "height": 206
    },
    "id": "qaJm3RlRFT0G",
    "outputId": "30461078-64ed-4cd6-fc6c-8fefe89355aa"
   },
   "outputs": [],
   "source": [
    "data.head()"
   ]
  },
  {
   "cell_type": "markdown",
   "metadata": {
    "id": "lRbq5xrrJCWb"
   },
   "source": [
    "## Engagement Distribution Over Time (Question 1)"
   ]
  },
  {
   "cell_type": "markdown",
   "metadata": {
    "id": "5FqH7wQEF5jv"
   },
   "source": [
    "### Customer_id"
   ]
  },
  {
   "cell_type": "code",
   "execution_count": null,
   "metadata": {
    "colab": {
     "base_uri": "https://localhost:8080/",
     "height": 1000
    },
    "id": "0LIxhTv3F42e",
    "outputId": "71bf4b3f-8810-4e0a-deb2-5078d292f8e5"
   },
   "outputs": [],
   "source": [
    "customers = data.customer_id.drop_duplicates().tolist()\n",
    "counter = 0\n",
    "for i in range(int(len(customers) / 5)):  \n",
    "  fig, ax = plt.subplots(2)\n",
    "  for j in range(5):\n",
    "    df = data.loc[data.customer_id == customers[counter]].groupby('date')\n",
    "    days = list(df.groups.keys())\n",
    "    ax[0].plot(days,df['engagement'].mean(),label= str(customers[counter]) + \" mean\")\n",
    "    ax[0].legend()\n",
    "    ax[1].plot(days,df['engagement'].std(),label= str(customers[counter]) + \" std\")\n",
    "    ax[1].legend()\n",
    "    counter += 1\n",
    "  plt.show()"
   ]
  },
  {
   "cell_type": "markdown",
   "metadata": {
    "id": "LO8zgWRGIgiw"
   },
   "source": [
    "### Country_id"
   ]
  },
  {
   "cell_type": "code",
   "execution_count": null,
   "metadata": {
    "colab": {
     "base_uri": "https://localhost:8080/",
     "height": 1000
    },
    "id": "xDFo_XjYM_Ea",
    "outputId": "072e3e9b-d528-4659-b37b-dac4e1ab0bd6"
   },
   "outputs": [],
   "source": [
    "countries = data.country_id.drop_duplicates().tolist()\n",
    "counter = 0\n",
    "for i in range(int(len(countries) / 2)):  \n",
    "  fig, ax = plt.subplots(2)\n",
    "  for j in range(2):\n",
    "    df = data.loc[data.country_id == countries[counter]].groupby('date')\n",
    "    days = list(df.groups.keys())\n",
    "    ax[0].plot(days,df['engagement'].mean(),label= str(countries[counter]) + \" mean\")\n",
    "    ax[0].legend()\n",
    "    ax[1].plot(days,df['engagement'].std(),label= str(countries[counter]) + \" std\")\n",
    "    ax[1].legend()\n",
    "    counter += 1\n",
    "  plt.show()"
   ]
  },
  {
   "cell_type": "markdown",
   "metadata": {
    "id": "bA3sg3uiIjFZ"
   },
   "source": [
    "### City_id"
   ]
  },
  {
   "cell_type": "code",
   "execution_count": null,
   "metadata": {
    "colab": {
     "base_uri": "https://localhost:8080/",
     "height": 1000
    },
    "id": "Vke9Ei4nNYTf",
    "outputId": "9bd1f453-9e98-440a-a683-b95fe07b340a"
   },
   "outputs": [],
   "source": [
    "cities = data.city_id.drop_duplicates().tolist()\n",
    "counter = 0\n",
    "for i in range(int(len(cities) / 3)):  \n",
    "  fig, ax = plt.subplots(2)\n",
    "  for j in range(3):\n",
    "    df = data.loc[data.city_id == cities[counter]].groupby('date')\n",
    "    days = list(df.groups.keys())\n",
    "    ax[0].plot(days,df['engagement'].mean(),label= str(cities[counter]) + \" mean\")\n",
    "    ax[0].legend()\n",
    "    ax[1].plot(days,df['engagement'].std(),label= str(cities[counter]) + \" std\")\n",
    "    ax[1].legend()\n",
    "    counter += 1\n",
    "  plt.show()"
   ]
  },
  {
   "cell_type": "markdown",
   "metadata": {
    "id": "u_jEIqskJGyJ"
   },
   "source": [
    "## QoE Distribution Over Time (Question 2)"
   ]
  },
  {
   "cell_type": "markdown",
   "metadata": {
    "id": "iLf8SqYUImT_"
   },
   "source": [
    "### Customer_id"
   ]
  },
  {
   "cell_type": "code",
   "execution_count": null,
   "metadata": {
    "colab": {
     "base_uri": "https://localhost:8080/",
     "height": 1000
    },
    "id": "tnO9ogxMN3Nb",
    "outputId": "31a8fbee-013d-4306-e04a-cdc79a629ed2"
   },
   "outputs": [],
   "source": [
    "customers = data.customer_id.drop_duplicates().tolist()\n",
    "counter = 0\n",
    "for i in range(int(len(customers) / 5)):  \n",
    "  fig, ax = plt.subplots(2)\n",
    "  for j in range(5):\n",
    "    df = data.loc[data.customer_id == customers[counter]].groupby('date')\n",
    "    days = list(df.groups.keys())\n",
    "    ax[0].plot(days,df['qoe'].mean(),label= str(customers[counter]) + \" mean\")\n",
    "    ax[0].legend()\n",
    "    ax[1].plot(days,df['qoe'].std(),label= str(customers[counter]) + \" std\")\n",
    "    ax[1].legend()\n",
    "    counter += 1\n",
    "  plt.show()"
   ]
  },
  {
   "cell_type": "markdown",
   "metadata": {
    "id": "ciBfJ4hTIpUD"
   },
   "source": [
    "### Country_id"
   ]
  },
  {
   "cell_type": "code",
   "execution_count": null,
   "metadata": {
    "colab": {
     "base_uri": "https://localhost:8080/",
     "height": 1000
    },
    "id": "nGKJD0OLN85e",
    "outputId": "40fbafc9-8021-46d6-a93a-03293ac6c0da"
   },
   "outputs": [],
   "source": [
    "countries = data.customer_id.drop_duplicates().tolist()\n",
    "counter = 0\n",
    "for i in range(int(len(countries) / 2)):  \n",
    "  fig, ax = plt.subplots(2)\n",
    "  for j in range(2):\n",
    "    df = data.loc[data.country_id == countries[counter]].groupby('date')\n",
    "    days = list(df.groups.keys())\n",
    "    ax[0].plot(days,df['qoe'].mean(),label= str(countries[counter]) + \" mean\")\n",
    "    ax[0].legend()\n",
    "    ax[1].plot(days,df['qoe'].std(),label= str(countries[counter]) + \" std\")\n",
    "    ax[1].legend()\n",
    "    counter += 1\n",
    "  plt.show()"
   ]
  },
  {
   "cell_type": "markdown",
   "metadata": {
    "id": "QHoQ1rP8Ir5R"
   },
   "source": [
    "### City_id"
   ]
  },
  {
   "cell_type": "code",
   "execution_count": null,
   "metadata": {
    "colab": {
     "base_uri": "https://localhost:8080/",
     "height": 1000
    },
    "id": "KubRGhTYN_6y",
    "outputId": "0f9b1259-c74b-4edf-e1e9-7891620d62dc"
   },
   "outputs": [],
   "source": [
    "cities = data.city_id.drop_duplicates().tolist()\n",
    "counter = 0\n",
    "for i in range(int(len(cities) / 3)):  \n",
    "  fig, ax = plt.subplots(2)\n",
    "  for j in range(3):\n",
    "    df = data.loc[data.city_id == cities[counter]].groupby('date')\n",
    "    days = list(df.groups.keys())\n",
    "    ax[0].plot(days,df['engagement'].mean(),label= str(cities[counter]) + \" mean\")\n",
    "    ax[0].legend()\n",
    "    ax[1].plot(days,df['engagement'].std(),label= str(cities[counter]) + \" std\")\n",
    "    ax[1].legend()\n",
    "    counter += 1\n",
    "  plt.show()"
   ]
  },
  {
   "cell_type": "markdown",
   "metadata": {
    "id": "XU_g8ipN-M8n"
   },
   "source": [
    "## Engagement/QoE distribution differences based on viewer_type (Question 3)"
   ]
  },
  {
   "cell_type": "code",
   "execution_count": null,
   "metadata": {
    "colab": {
     "base_uri": "https://localhost:8080/"
    },
    "id": "U509ULTh-edA",
    "outputId": "c821f48f-27ee-42e3-a818-632ffe5bb9b3"
   },
   "outputs": [],
   "source": [
    "office = data.loc[data.viewer_type == 0,('engagement','qoe')]\n",
    "home = data.loc[data.viewer_type == 1,('engagement','qoe')]\n",
    "\n",
    "print(\"Kolmogorov–Smirnov test for engagement is \" + str(ks_2samp(office['engagement'],home['engagement']).statistic))\n",
    "print(\"Kolmogorov–Smirnov test for QoE is \" + str(ks_2samp(office['qoe'],home['qoe']).statistic))\n",
    "\n",
    "del office\n",
    "del home"
   ]
  },
  {
   "cell_type": "markdown",
   "metadata": {
    "id": "sQ-JspSvADxR"
   },
   "source": [
    "## Viewers engagement level duration over country/city/viewer_type (Question 4)"
   ]
  },
  {
   "cell_type": "code",
   "execution_count": null,
   "metadata": {
    "colab": {
     "base_uri": "https://localhost:8080/",
     "height": 310
    },
    "id": "bIFtiBXDhyRw",
    "outputId": "e9dd7caa-b766-45db-9976-fdd8fdc70a77"
   },
   "outputs": [],
   "source": [
    "cols = ['customer_id','country_id','city_id','engagement','viewer_type']\n",
    "df = data[cols]\n",
    "conditions = [\n",
    "    (df['engagement'] <= 0.25),\n",
    "    (df['engagement'] > 0.25) & (df['engagement'] <= 0.5),\n",
    "    (df['engagement'] > 0.5) & (df['engagement'] <= 0.75),\n",
    "    (df['engagement'] <= 1)\n",
    "    ]\n",
    "\n",
    "# create a list of the values we want to assign for each condition\n",
    "values = ['very low','low','avg','high']\n",
    "\n",
    "# create a new column and use np.select to assign values to it using our lists as arguments\n",
    "df['tier'] = np.select(conditions, values)\n",
    "\n",
    "# display updated DataFrame\n",
    "df.head()"
   ]
  },
  {
   "cell_type": "markdown",
   "metadata": {
    "id": "4wfuRTb7EKq7"
   },
   "source": [
    "### Viewer_type"
   ]
  },
  {
   "cell_type": "code",
   "execution_count": null,
   "metadata": {
    "colab": {
     "base_uri": "https://localhost:8080/",
     "height": 535
    },
    "id": "m4v1pxU503uf",
    "outputId": "5be95d32-4d3b-4791-e2b7-c509ca29b5e7"
   },
   "outputs": [],
   "source": [
    "grouped = df.groupby('viewer_type')\n",
    "for key, item in grouped:\n",
    "  x = grouped.get_group(key)['tier'].tolist()\n",
    "  Y = np.array([x.count('very low'), x.count('low'), x.count('avg'), x.count('high')])\n",
    "  plt.bar(x = values, height = Y,width = 0.1, label = str(key))\n",
    "  plt.legend()\n",
    "  plt.show()"
   ]
  },
  {
   "cell_type": "markdown",
   "metadata": {
    "id": "zsxEkpHA0-NV"
   },
   "source": [
    "## Country"
   ]
  },
  {
   "cell_type": "code",
   "execution_count": null,
   "metadata": {
    "colab": {
     "base_uri": "https://localhost:8080/",
     "height": 1000
    },
    "id": "jJyp8fFG1A4N",
    "outputId": "41541b46-e737-4b06-fe12-06dcf68665e5"
   },
   "outputs": [],
   "source": [
    "grouped = df.groupby('country_id')\n",
    "counter = 0 \n",
    "for key, item in grouped:\n",
    "  x = grouped.get_group(key)['tier'].tolist()\n",
    "  Y = np.array([x.count('very low'), x.count('low'), x.count('avg'), x.count('high')])\n",
    "  plt.bar(x = values, height = Y,width = 0.1, label = str(key))\n",
    "  plt.legend()\n",
    "  counter += 1\n",
    "  if counter == 5:\n",
    "    plt.show()\n",
    "    counter = 0"
   ]
  },
  {
   "cell_type": "markdown",
   "metadata": {
    "id": "N7Qw0io81MlC"
   },
   "source": [
    "## City "
   ]
  },
  {
   "cell_type": "code",
   "execution_count": null,
   "metadata": {
    "id": "8U9ANQdq1PXK"
   },
   "outputs": [],
   "source": [
    "grouped = df.groupby('city_id')\n",
    "counter = 0\n",
    "for key, item in grouped:\n",
    "  x = grouped.get_group(key)['tier'].tolist()\n",
    "  Y = np.array([x.count('very low'), x.count('low'), x.count('avg'), x.count('high')])\n",
    "  plt.bar(x = values, height = Y,width = 0.1, label = str(key))\n",
    "  plt.legend()\n",
    "  counter += 1\n",
    "  if counter == 5:\n",
    "    plt.show()\n",
    "    counter = 0"
   ]
  },
  {
   "cell_type": "markdown",
   "metadata": {
    "id": "IGZX2EDBJXKE"
   },
   "source": [
    "## Countries/Cities that follow different distributions per customer(Question 5)"
   ]
  },
  {
   "cell_type": "markdown",
   "metadata": {},
   "source": [
    "## Countries"
   ]
  },
  {
   "cell_type": "code",
   "execution_count": null,
   "metadata": {},
   "outputs": [],
   "source": [
    "cols = ['customer_id','country_id','engagement']\n",
    "df = data[cols]\n",
    "\n",
    "customer_group = df.groupby('customer_id')\n",
    "lst = []\n",
    "for key, index in (customer_group):\n",
    "    custom = customer_group.get_group(key)\n",
    "    countries = custom['country_id'].drop_duplicates().tolist()\n",
    "    for country1 in countries:\n",
    "        c1_eng = custom[custom.country_id == country1]['engagement']\n",
    "        for country2 in countries:\n",
    "            c2_eng = custom[custom.country_id == country2]['engagement']\n",
    "            if ks_2samp(c1_eng,c2_eng).statistic == 1:\n",
    "                print(\"For customer \" + str(key) + \" and for countries\" + str((country1,country2)) + \" the distributions of engagement are different\")"
   ]
  },
  {
   "cell_type": "markdown",
   "metadata": {},
   "source": [
    "## City"
   ]
  },
  {
   "cell_type": "code",
   "execution_count": null,
   "metadata": {},
   "outputs": [],
   "source": [
    "cols = ['customer_id','city_id','engagement']\n",
    "df = data[cols]\n",
    "\n",
    "customer_group = df.groupby('customer_id')\n",
    "lst = []\n",
    "for key, index in tqdm(customer_group):\n",
    "    custom = customer_group.get_group(key)\n",
    "    cities = custom['city_id'].drop_duplicates().tolist()\n",
    "    for city1 in cities:\n",
    "        c1_eng = custom[custom.city_id == city1]['engagement']\n",
    "        for city2 in cities:\n",
    "            c2_eng = custom[custom.city_id == city2]['engagement']\n",
    "            if ks_2samp(c1_eng,c2_eng).statistic == 1:\n",
    "                lst.append((key,city1,city2))\n",
    "\n",
    "for i in range(10):\n",
    "    print(lst[i])\n",
    "\n",
    "del lst"
   ]
  },
  {
   "cell_type": "markdown",
   "metadata": {
    "id": "rN2NAax9J8Kw"
   },
   "source": [
    "## Correlation between original data (Question 6)"
   ]
  },
  {
   "cell_type": "code",
   "execution_count": null,
   "metadata": {
    "id": "DD7kZC14KF2u"
   },
   "outputs": [],
   "source": [
    "cols = ['timestamp','customer_id','viewer_id','city_id','country_id','viewer_type','qoe','engagement','event_id']\n",
    "df = data[cols]\n",
    "sns.set(rc={'figure.figsize':(11.7,8.27)})\n",
    "sns.heatmap(data = df.corr(),annot = True)"
   ]
  },
  {
   "cell_type": "markdown",
   "metadata": {
    "id": "5Pkmq_ZnLWLx"
   },
   "source": [
    "## Correlation between engagement and various factors(Question 7)"
   ]
  },
  {
   "cell_type": "markdown",
   "metadata": {
    "id": "j-wzeU0s9nBY"
   },
   "source": [
    "### Correlation between Number of viewers / Engagement"
   ]
  },
  {
   "cell_type": "code",
   "execution_count": null,
   "metadata": {
    "id": "F8HFpD2oyLAA"
   },
   "outputs": [],
   "source": [
    "## Number of viewers\n",
    "cols = ['timestamp','event_id','viewer_id','engagement']\n",
    "df = data[cols]\n",
    "events = df['event_id'].drop_duplicates().tolist()\n",
    "number_of_viewers = []\n",
    "for event in tqdm(events,desc=\"Calculating Number of Viewers\"):\n",
    "  number_of_viewers.append(data.loc[data['event_id'] == event]['viewer_id'].drop_duplicates().count())\n",
    "\n",
    "event_viewers = dict(zip(events,number_of_viewers))\n",
    "df['Number_Of_Viewers'] = df['event_id'].map(event_viewers)\n",
    "\n",
    "del event_viewers,events,number_of_viewers\n",
    "df.corr()"
   ]
  },
  {
   "cell_type": "markdown",
   "metadata": {
    "id": "ziFILWcD9tse"
   },
   "source": [
    "### Correlation between Day of the event / Engagement"
   ]
  },
  {
   "cell_type": "code",
   "execution_count": null,
   "metadata": {
    "id": "L_mHe8SC_MbW"
   },
   "outputs": [],
   "source": [
    "cols = ['engagement','day_of_week']\n",
    "df = data[cols]\n",
    "df.corr()"
   ]
  },
  {
   "cell_type": "markdown",
   "metadata": {
    "id": "aBlVDovz93rW"
   },
   "source": [
    "### Correlation between Duration of the event / Engagement"
   ]
  },
  {
   "cell_type": "code",
   "execution_count": null,
   "metadata": {
    "id": "oyzo2C0EyNEe"
   },
   "outputs": [],
   "source": [
    "## Event Duration\n",
    "cols = ['event_id','timestamp','engagement']\n",
    "df = data[cols]\n",
    "events = df['event_id'].drop_duplicates().tolist()\n",
    "duration = []\n",
    "for event in tqdm(events):\n",
    "  l = data.loc[data['event_id'] == event]['timestamp'].tolist()\n",
    "  l.sort()\n",
    "  duration.append(l[-1] - l[0])\n",
    "event_duration = dict(zip(events,duration))\n",
    "df['Event_Duration'] = df['event_id'].map(event_duration)\n",
    "del duration, event_duration, l, events\n",
    "df.corr()"
   ]
  },
  {
   "cell_type": "markdown",
   "metadata": {
    "id": "ZPhoqiOp-BLs"
   },
   "source": [
    "### Correlation between Countries / Engagement"
   ]
  },
  {
   "cell_type": "code",
   "execution_count": null,
   "metadata": {
    "id": "le-tZ3GQ_awN"
   },
   "outputs": [],
   "source": [
    "cols = ['engagement','country_id']\n",
    "data[cols].corr()"
   ]
  },
  {
   "cell_type": "markdown",
   "metadata": {
    "id": "NShMhWvn-IQn"
   },
   "source": [
    "### Correlation between Retention / Engagement"
   ]
  },
  {
   "cell_type": "code",
   "execution_count": null,
   "metadata": {
    "id": "nDOt0cWvTAkk"
   },
   "outputs": [],
   "source": [
    "def retention(series):\n",
    "  lst = series.tolist()\n",
    "  sum = 0\n",
    "  for i in range(1,len(lst)):\n",
    "    sum += 30000\n",
    "  #ret = pd.Series([sum for _ in range(len(lst))])\n",
    "  return sum"
   ]
  },
  {
   "cell_type": "code",
   "execution_count": null,
   "metadata": {
    "id": "dx6njGwlHkO6"
   },
   "outputs": [],
   "source": [
    "## Viewer Retention\n",
    "cols = ['event_id','viewer_id','timestamp','engagement']\n",
    "temp = data[cols]\n",
    "df = temp.sort_values(by='timestamp').groupby(['event_id','viewer_id','engagement']).agg({'timestamp':retention}).reset_index().rename(columns = {'timestamp':'retention'})\n",
    "df.corr()"
   ]
  }
 ],
 "metadata": {
  "colab": {
   "collapsed_sections": [],
   "name": "DeepLearning_DataAnalysis.ipynb",
   "provenance": []
  },
  "kernelspec": {
   "display_name": "Python 3 (ipykernel)",
   "language": "python",
   "name": "python3"
  },
  "language_info": {
   "codemirror_mode": {
    "name": "ipython",
    "version": 3
   },
   "file_extension": ".py",
   "mimetype": "text/x-python",
   "name": "python",
   "nbconvert_exporter": "python",
   "pygments_lexer": "ipython3",
   "version": "3.9.2"
  },
  "latex_envs": {
   "LaTeX_envs_menu_present": true,
   "autoclose": false,
   "autocomplete": true,
   "bibliofile": "biblio.bib",
   "cite_by": "apalike",
   "current_citInitial": 1,
   "eqLabelWithNumbers": true,
   "eqNumInitial": 1,
   "hotkeys": {
    "equation": "Ctrl-E",
    "itemize": "Ctrl-I"
   },
   "labels_anchors": false,
   "latex_user_defs": false,
   "report_style_numbering": false,
   "user_envs_cfg": false
  }
 },
 "nbformat": 4,
 "nbformat_minor": 1
}
