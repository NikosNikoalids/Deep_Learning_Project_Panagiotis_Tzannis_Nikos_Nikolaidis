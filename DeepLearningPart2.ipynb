{
 "cells": [
  {
   "cell_type": "code",
   "execution_count": 1,
   "metadata": {
    "colab": {
     "base_uri": "https://localhost:8080/"
    },
    "id": "DuVOlSjL762d",
    "outputId": "a8c6d196-b03e-4720-9277-2d1c4c8e69db"
   },
   "outputs": [
    {
     "name": "stdout",
     "output_type": "stream",
     "text": [
      "Looking in indexes: https://pypi.org/simple, https://us-python.pkg.dev/colab-wheels/public/simple/\n",
      "Collecting pmdarima\n",
      "  Downloading pmdarima-1.8.5-cp37-cp37m-manylinux_2_17_x86_64.manylinux2014_x86_64.manylinux_2_24_x86_64.whl (1.4 MB)\n",
      "\u001b[K     |████████████████████████████████| 1.4 MB 14.9 MB/s \n",
      "\u001b[?25hCollecting statsmodels!=0.12.0,>=0.11\n",
      "  Downloading statsmodels-0.13.2-cp37-cp37m-manylinux_2_17_x86_64.manylinux2014_x86_64.whl (9.8 MB)\n",
      "\u001b[K     |████████████████████████████████| 9.8 MB 59.6 MB/s \n",
      "\u001b[?25hRequirement already satisfied: setuptools!=50.0.0,>=38.6.0 in /usr/local/lib/python3.7/dist-packages (from pmdarima) (57.4.0)\n",
      "Requirement already satisfied: Cython!=0.29.18,>=0.29 in /usr/local/lib/python3.7/dist-packages (from pmdarima) (0.29.30)\n",
      "Requirement already satisfied: pandas>=0.19 in /usr/local/lib/python3.7/dist-packages (from pmdarima) (1.3.5)\n",
      "Requirement already satisfied: scipy>=1.3.2 in /usr/local/lib/python3.7/dist-packages (from pmdarima) (1.4.1)\n",
      "Requirement already satisfied: numpy>=1.19.3 in /usr/local/lib/python3.7/dist-packages (from pmdarima) (1.21.6)\n",
      "Requirement already satisfied: joblib>=0.11 in /usr/local/lib/python3.7/dist-packages (from pmdarima) (1.1.0)\n",
      "Requirement already satisfied: scikit-learn>=0.22 in /usr/local/lib/python3.7/dist-packages (from pmdarima) (1.0.2)\n",
      "Requirement already satisfied: urllib3 in /usr/local/lib/python3.7/dist-packages (from pmdarima) (1.24.3)\n",
      "Requirement already satisfied: python-dateutil>=2.7.3 in /usr/local/lib/python3.7/dist-packages (from pandas>=0.19->pmdarima) (2.8.2)\n",
      "Requirement already satisfied: pytz>=2017.3 in /usr/local/lib/python3.7/dist-packages (from pandas>=0.19->pmdarima) (2022.1)\n",
      "Requirement already satisfied: six>=1.5 in /usr/local/lib/python3.7/dist-packages (from python-dateutil>=2.7.3->pandas>=0.19->pmdarima) (1.15.0)\n",
      "Requirement already satisfied: threadpoolctl>=2.0.0 in /usr/local/lib/python3.7/dist-packages (from scikit-learn>=0.22->pmdarima) (3.1.0)\n",
      "Requirement already satisfied: patsy>=0.5.2 in /usr/local/lib/python3.7/dist-packages (from statsmodels!=0.12.0,>=0.11->pmdarima) (0.5.2)\n",
      "Requirement already satisfied: packaging>=21.3 in /usr/local/lib/python3.7/dist-packages (from statsmodels!=0.12.0,>=0.11->pmdarima) (21.3)\n",
      "Requirement already satisfied: pyparsing!=3.0.5,>=2.0.2 in /usr/local/lib/python3.7/dist-packages (from packaging>=21.3->statsmodels!=0.12.0,>=0.11->pmdarima) (3.0.9)\n",
      "Installing collected packages: statsmodels, pmdarima\n",
      "  Attempting uninstall: statsmodels\n",
      "    Found existing installation: statsmodels 0.10.2\n",
      "    Uninstalling statsmodels-0.10.2:\n",
      "      Successfully uninstalled statsmodels-0.10.2\n",
      "Successfully installed pmdarima-1.8.5 statsmodels-0.13.2\n"
     ]
    }
   ],
   "source": [
    "!pip install pmdarima"
   ]
  },
  {
   "cell_type": "markdown",
   "metadata": {
    "id": "i-V3UQhWiEdw"
   },
   "source": [
    "## Import libraries"
   ]
  },
  {
   "cell_type": "code",
   "execution_count": 2,
   "metadata": {
    "id": "GCaUU7qjhqy1"
   },
   "outputs": [],
   "source": [
    "import pandas as pd\n",
    "import torch\n",
    "from pmdarima import auto_arima\n",
    "from tqdm import tqdm\n",
    "import warnings\n",
    "from sklearn.preprocessing import MinMaxScaler\n",
    "import numpy as np\n",
    "from torch.utils.data import Dataset, DataLoader\n",
    "from torch import nn\n",
    "import torch.nn.functional as F\n"
   ]
  },
  {
   "cell_type": "markdown",
   "metadata": {
    "id": "3mjB_ZGViIwi"
   },
   "source": [
    "## Load data"
   ]
  },
  {
   "cell_type": "code",
   "execution_count": 3,
   "metadata": {
    "colab": {
     "base_uri": "https://localhost:8080/"
    },
    "id": "v51ZsYelhzXV",
    "outputId": "f5bc8ae0-5743-40a8-e1a5-21b43b052f7a"
   },
   "outputs": [
    {
     "name": "stdout",
     "output_type": "stream",
     "text": [
      "<class 'pandas.core.frame.DataFrame'>\n",
      "RangeIndex: 20615370 entries, 0 to 20615369\n",
      "Data columns (total 11 columns):\n",
      " #   Column       Dtype  \n",
      "---  ------       -----  \n",
      " 0   Unnamed: 0   int64  \n",
      " 1   timestamp    int64  \n",
      " 2   customer_id  float64\n",
      " 3   event_id     float64\n",
      " 4   viewer_id    float64\n",
      " 5   city_id      float64\n",
      " 6   country_id   float64\n",
      " 7   viewer_type  object \n",
      " 8   qoe          float64\n",
      " 9   engagement   float64\n",
      " 10  buffer_ms    int64  \n",
      "dtypes: float64(7), int64(3), object(1)\n",
      "memory usage: 1.7+ GB\n"
     ]
    }
   ],
   "source": [
    "data = pd.read_csv('/content/drive/MyDrive/compressed_dataset.csv.zip',compression='zip',index_col=False)\n",
    "data.info()"
   ]
  },
  {
   "cell_type": "markdown",
   "metadata": {
    "id": "BcWpDudIiK1V"
   },
   "source": [
    "## Extract features from timestamp"
   ]
  },
  {
   "cell_type": "code",
   "execution_count": 4,
   "metadata": {
    "colab": {
     "base_uri": "https://localhost:8080/"
    },
    "id": "kRSB7ugUh-kV",
    "outputId": "33db86a0-6a4f-4524-f066-55a23a9b10d4"
   },
   "outputs": [
    {
     "name": "stderr",
     "output_type": "stream",
     "text": [
      "/usr/local/lib/python3.7/dist-packages/ipykernel_launcher.py:7: SettingWithCopyWarning: \n",
      "A value is trying to be set on a copy of a slice from a DataFrame.\n",
      "Try using .loc[row_indexer,col_indexer] = value instead\n",
      "\n",
      "See the caveats in the documentation: https://pandas.pydata.org/pandas-docs/stable/user_guide/indexing.html#returning-a-view-versus-a-copy\n",
      "  import sys\n",
      "/usr/local/lib/python3.7/dist-packages/ipykernel_launcher.py:8: SettingWithCopyWarning: \n",
      "A value is trying to be set on a copy of a slice from a DataFrame.\n",
      "Try using .loc[row_indexer,col_indexer] = value instead\n",
      "\n",
      "See the caveats in the documentation: https://pandas.pydata.org/pandas-docs/stable/user_guide/indexing.html#returning-a-view-versus-a-copy\n",
      "  \n",
      "/usr/local/lib/python3.7/dist-packages/ipykernel_launcher.py:9: SettingWithCopyWarning: \n",
      "A value is trying to be set on a copy of a slice from a DataFrame.\n",
      "Try using .loc[row_indexer,col_indexer] = value instead\n",
      "\n",
      "See the caveats in the documentation: https://pandas.pydata.org/pandas-docs/stable/user_guide/indexing.html#returning-a-view-versus-a-copy\n",
      "  if __name__ == '__main__':\n",
      "/usr/local/lib/python3.7/dist-packages/ipykernel_launcher.py:10: SettingWithCopyWarning: \n",
      "A value is trying to be set on a copy of a slice from a DataFrame.\n",
      "Try using .loc[row_indexer,col_indexer] = value instead\n",
      "\n",
      "See the caveats in the documentation: https://pandas.pydata.org/pandas-docs/stable/user_guide/indexing.html#returning-a-view-versus-a-copy\n",
      "  # Remove the CWD from sys.path while we load stuff.\n"
     ]
    }
   ],
   "source": [
    "df = data.groupby('event_id')\n",
    "\n",
    "events = list(df.groups.keys())\n",
    "\n",
    "data = data.loc[data.event_id != events[len(events) - 1]]\n",
    "\n",
    "data['date/time'] = pd.to_datetime(data['timestamp'],unit = 'ms')\n",
    "data['date'] = data['date/time'].dt.date\n",
    "data['time'] = pd.Series(data['date/time']).dt.round(\"T\").dt.time\n",
    "data['day_of_week'] = data['date/time'].dt.weekday"
   ]
  },
  {
   "cell_type": "markdown",
   "metadata": {
    "id": "-I1zQPk1iWW8"
   },
   "source": [
    "## Find anomalies using the ARIMA method"
   ]
  },
  {
   "cell_type": "markdown",
   "metadata": {
    "id": "3lTw-j71ljSD"
   },
   "source": [
    "We use the statistical method of ARIMA to detect anomalies. To find the best model for the data we use the auto-arima function. We set the threshold to 0.1"
   ]
  },
  {
   "cell_type": "code",
   "execution_count": 5,
   "metadata": {
    "colab": {
     "base_uri": "https://localhost:8080/"
    },
    "id": "7nYNE4dTieuV",
    "outputId": "6ccafc59-0f88-4686-f9fe-ba1f9bb0da77"
   },
   "outputs": [
    {
     "name": "stderr",
     "output_type": "stream",
     "text": [
      "100%|██████████| 730/730 [18:17<00:00,  1.50s/it]\n"
     ]
    }
   ],
   "source": [
    "warnings.filterwarnings('ignore')\n",
    "\n",
    "df = data[['event_id','time','qoe']].groupby('event_id')\n",
    "\n",
    "events = list(df.groups.keys())\n",
    "\n",
    "Y = torch.zeros(len(events))\n",
    "\n",
    "for i in tqdm(range(len(events))):\n",
    "  ## Delete the first and last three entries\n",
    "  d = df.get_group(events[i]).groupby('time').mean().reset_index().drop('event_id',axis=1)\n",
    "  d.drop(index=d.index[0], inplace=True)\n",
    "  d.drop(index=d.index[d.index.shape[0] - 3:d.index.shape[0] - 1],inplace=True)\n",
    "  ## Use auto arima to find the best model\n",
    "  model = auto_arima(d.qoe,trace=False,stepwise=True)\n",
    "  ## Calculate the residual with the time series\n",
    "  d['pred'] = model.predict_in_sample(d.qoe)\n",
    "  d['MSE'] = d['pred'] - d['qoe']\n",
    "  ## Detect Anomalies\n",
    "  if (d['MSE'] > 0.1).sum() != 0:\n",
    "    Y[i] = 1"
   ]
  },
  {
   "cell_type": "markdown",
   "metadata": {
    "id": "09H4sh5V17Vg"
   },
   "source": [
    "### Number of anomalies in the dataset"
   ]
  },
  {
   "cell_type": "code",
   "execution_count": 6,
   "metadata": {
    "colab": {
     "base_uri": "https://localhost:8080/"
    },
    "id": "JnJwzUgmxGXi",
    "outputId": "80d7d16e-e27f-4cb0-b6b9-6483a37a60d5"
   },
   "outputs": [
    {
     "data": {
      "text/plain": [
       "130"
      ]
     },
     "execution_count": 6,
     "metadata": {},
     "output_type": "execute_result"
    }
   ],
   "source": [
    "N = int((Y == 1).sum())\n",
    "N"
   ]
  },
  {
   "cell_type": "markdown",
   "metadata": {
    "id": "Mdvs126C2CF3"
   },
   "source": [
    "### Examples of time series with anomalies"
   ]
  },
  {
   "cell_type": "code",
   "execution_count": 7,
   "metadata": {
    "colab": {
     "base_uri": "https://localhost:8080/",
     "height": 1000
    },
    "id": "-qXkVwRwxbUp",
    "outputId": "19df4783-082a-4881-d337-aac1663e11e0"
   },
   "outputs": [
    {
     "data": {
      "image/png": "[encoded data removed]",
      "text/plain": [
       "<Figure size 432x288 with 1 Axes>"
      ]
     },
     "metadata": {
      "needs_background": "light"
     },
     "output_type": "display_data"
    },
    {
     "data": {
      "image/png": "[encoded data removed]",
      "text/plain": [
       "<Figure size 432x288 with 1 Axes>"
      ]
     },
     "metadata": {
      "needs_background": "light"
     },
     "output_type": "display_data"
    },
    {
     "data": {
      "image/png": "[encoded data removed]",
      "text/plain": [
       "<Figure size 432x288 with 1 Axes>"
      ]
     },
     "metadata": {
      "needs_background": "light"
     },
     "output_type": "display_data"
    },
    {
     "data": {
      "image/png": "[encoded data removed]",
      "text/plain": [
       "<Figure size 432x288 with 1 Axes>"
      ]
     },
     "metadata": {
      "needs_background": "light"
     },
     "output_type": "display_data"
    },
    {
     "data": {
      "image/png": "[encoded data removed]",
      "text/plain": [
       "<Figure size 432x288 with 1 Axes>"
      ]
     },
     "metadata": {
      "needs_background": "light"
     },
     "output_type": "display_data"
    },
    {
     "data": {
      "image/png": "[encoded data removed]",
      "text/plain": [
       "<Figure size 432x288 with 1 Axes>"
      ]
     },
     "metadata": {
      "needs_background": "light"
     },
     "output_type": "display_data"
    },
    {
     "data": {
      "image/png": "[encoded data removed]",
      "text/plain": [
       "<Figure size 432x288 with 1 Axes>"
      ]
     },
     "metadata": {
      "needs_background": "light"
     },
     "output_type": "display_data"
    },
    {
     "data": {
      "image/png": "[encoded data removed]",
      "text/plain": [
       "<Figure size 432x288 with 1 Axes>"
      ]
     },
     "metadata": {
      "needs_background": "light"
     },
     "output_type": "display_data"
    },
    {
     "data": {
      "image/png": "[encoded data removed]",
      "text/plain": [
       "<Figure size 432x288 with 1 Axes>"
      ]
     },
     "metadata": {
      "needs_background": "light"
     },
     "output_type": "display_data"
    },
    {
     "data": {
      "image/png": "[encoded data removed]",
      "text/plain": [
       "<Figure size 432x288 with 1 Axes>"
      ]
     },
     "metadata": {
      "needs_background": "light"
     },
     "output_type": "display_data"
    }
   ],
   "source": [
    "import matplotlib.pyplot as plt\n",
    "i  = 0\n",
    "counter = 0\n",
    "while counter < 10:\n",
    "  if Y[i] == 1:\n",
    "    qoe = data.loc[data.event_id == events[i],['time','qoe']].groupby('time').mean().reset_index().qoe\n",
    "    plt.plot(qoe)\n",
    "    plt.show()\n",
    "    counter += 1\n",
    "  i+= 1"
   ]
  },
  {
   "cell_type": "markdown",
   "metadata": {
    "id": "8fFTWyTRjPa-"
   },
   "source": [
    "## Extract the features for the model"
   ]
  },
  {
   "cell_type": "code",
   "execution_count": 8,
   "metadata": {
    "id": "G8cNZk_ckEpf"
   },
   "outputs": [],
   "source": [
    "def Duration(X):\n",
    "    l = X.tolist()\n",
    "    l.sort()\n",
    "    return l[-1] - l[0]\n",
    "\n",
    "def Retention(series):\n",
    "  lst = series.tolist()\n",
    "  lst.sort()\n",
    "  sum = 0\n",
    "  for i in range(1,len(lst)):\n",
    "    if lst[i] - lst[i-1] <= 30000: \n",
    "      sum += lst[i] - lst[i-1]\n",
    "  return sum"
   ]
  },
  {
   "cell_type": "code",
   "execution_count": 9,
   "metadata": {
    "id": "NH6uwbk0jUV-"
   },
   "outputs": [],
   "source": [
    "#engagement = data[['event_id','time','engagement']].groupby('event_id').agg({'engagement':'mean'}).reset_index().engagement ## Mean value for engagement\n",
    "buffer_ms = data[['event_id','buffer_ms']].groupby('event_id').mean().reset_index().buffer_ms ## Mean value for buffer_ms\n",
    "countries = data[['event_id','country_id']].groupby('event_id').agg({'country_id':lambda x: x.drop_duplicates().count()}).reset_index().country_id ## Number of countries in the event\n",
    "cities = data[['event_id','city_id']].groupby('event_id').agg({'city_id':lambda x: x.drop_duplicates().count()}).reset_index().city_id ## Number of cities in the event\n",
    "number_of_viewers = data[['event_id','viewer_id']].groupby('event_id').agg({'viewer_id':lambda x: x.drop_duplicates().count()}).reset_index().viewer_id ## Number of viewers in the event\n",
    "WFO_count = data[['event_id','viewer_type']].groupby('event_id').agg({'viewer_type' :lambda x: (x == 'WFO').sum()}).reset_index().viewer_type ## Number of WFO in the event\n",
    "WFH_count = data[['event_id','viewer_type']].groupby('event_id').agg({'viewer_type' :lambda x: (x == 'WFH').sum()}).reset_index().viewer_type ## Number of WFH in the event\n",
    "duration = data[['event_id','timestamp']].groupby('event_id').agg({'timestamp' :Duration}).reset_index().timestamp ## Duration of the event\n",
    "retention = data[['event_id','viewer_id','timestamp']].groupby(['event_id','viewer_id']).agg({'timestamp':Retention}).reset_index().groupby('event_id').agg({'timestamp':'mean'}).reset_index().timestamp ## Mean retrntion in the event"
   ]
  },
  {
   "cell_type": "markdown",
   "metadata": {
    "id": "0Mv_SukykZSi"
   },
   "source": [
    "## Scale the values using MinMaxScaler"
   ]
  },
  {
   "cell_type": "code",
   "execution_count": 10,
   "metadata": {
    "id": "FQJIjgc4kq_O"
   },
   "outputs": [],
   "source": [
    "df = pd.DataFrame({'buffer_ms':buffer_ms,'countries_count':countries,'cities_count':cities,'number_of_viewers':number_of_viewers,'WFO_count':WFO_count,'WFH_count':WFH_count,'duration':duration,'retention':retention})\n",
    "cols = list(df.columns)\n",
    "\n",
    "for col in cols:\n",
    "  df[col] = MinMaxScaler().fit_transform(df[col].values.reshape(-1,1))"
   ]
  },
  {
   "cell_type": "code",
   "execution_count": 11,
   "metadata": {
    "id": "Lr_ZYLNl6NyI"
   },
   "outputs": [],
   "source": [
    "X = torch.tensor(df.to_numpy())"
   ]
  },
  {
   "cell_type": "code",
   "execution_count": 12,
   "metadata": {
    "id": "nxx6G0aOy07x"
   },
   "outputs": [],
   "source": [
    "poses0 = (Y == 0).nonzero(as_tuple=True)[0]\n",
    "poses1 = (Y == 1).nonzero(as_tuple=True)[0]\n",
    "\n",
    "train_X = torch.zeros(2*(Y == 1).sum(),X.shape[1])\n",
    "train_Y = torch.zeros(2*(Y == 1).sum())\n",
    "counter = 0\n",
    "counter_zeros = 0\n",
    "i = 0\n",
    "while i < (2*(Y == 1).sum()):\n",
    "  train_X[i] = X[poses0[counter_zeros]]\n",
    "  train_Y[i] = Y[poses0[counter_zeros]]\n",
    "  counter_zeros += 1\n",
    "  i += 1\n",
    "  train_X[i] = X[poses1[counter]]\n",
    "  train_Y[i] = Y[poses1[counter]]\n",
    "  counter += 1\n",
    "  i+= 1\n",
    "  \n",
    "\n"
   ]
  },
  {
   "cell_type": "markdown",
   "metadata": {
    "id": "SWBLGXOu-HIK"
   },
   "source": [
    "## Create custom dataset for tensors"
   ]
  },
  {
   "cell_type": "code",
   "execution_count": 13,
   "metadata": {
    "id": "8ADkU_8r6bkR"
   },
   "outputs": [],
   "source": [
    "class CustomDataset(Dataset):\n",
    "    def __init__(self,X,Y):\n",
    "        self.X = X\n",
    "        self.y = Y\n",
    "\n",
    "    def __len__(self):\n",
    "        return self.X.shape[0]\n",
    "    \n",
    "    def __getitem__(self, index):\n",
    "        return self.X[index],self.y[index]\n",
    "\n",
    "\n",
    "dataset = CustomDataset(train_X,train_Y)\n",
    "train_size = int(0.75 * train_X.shape[0])\n",
    "test_size = train_X.shape[0] - train_size\n",
    "train_dataset, test_dataset = torch.utils.data.random_split(dataset, [train_size, test_size])\n",
    "\n"
   ]
  },
  {
   "cell_type": "markdown",
   "metadata": {
    "id": "a6PSw9L6-WkN"
   },
   "source": [
    "## Create neural net class"
   ]
  },
  {
   "cell_type": "code",
   "execution_count": 14,
   "metadata": {
    "id": "muwpnAnN7WZv"
   },
   "outputs": [],
   "source": [
    "class MLP(nn.Module):\n",
    "  def __init__(self):\n",
    "    super().__init__()\n",
    "    self.layers = nn.Sequential(\n",
    "      nn.Flatten(),\n",
    "      nn.Linear(8, 10),\n",
    "      nn.ReLU(),\n",
    "      nn.Linear(10, 10),\n",
    "      nn.ReLU(),\n",
    "      nn.Linear(10, 10),\n",
    "      nn.ReLU(),\n",
    "      nn.Linear(10,1),\n",
    "      nn.Sigmoid()\n",
    "    )\n",
    "\n",
    "  def forward(self, x):\n",
    "    return self.layers(x)"
   ]
  },
  {
   "cell_type": "markdown",
   "metadata": {
    "id": "NyFWqSDN-bO2"
   },
   "source": [
    "## Train the model"
   ]
  },
  {
   "cell_type": "code",
   "execution_count": 15,
   "metadata": {
    "colab": {
     "base_uri": "https://localhost:8080/"
    },
    "id": "BSeug6N_941D",
    "outputId": "29833bd9-7d8b-459b-b53b-43ae8c193b7b"
   },
   "outputs": [
    {
     "name": "stdout",
     "output_type": "stream",
     "text": [
      "13.967109680175781\n",
      "8.562036871910095\n",
      "6.647926926612854\n",
      "5.805539548397064\n",
      "5.272475525736809\n",
      "4.625716742128134\n",
      "4.789165643975139\n",
      "4.82597566023469\n",
      "4.319736782461405\n",
      "4.229245439171791\n",
      "4.147952102124691\n",
      "4.141884978860617\n",
      "4.071279902011156\n",
      "4.082570679485798\n",
      "3.999015361070633\n",
      "4.1963400430977345\n",
      "4.2064480520784855\n",
      "3.7723568566143513\n",
      "3.713999528437853\n",
      "3.681801751255989\n",
      "3.673006519675255\n",
      "3.6691477485001087\n",
      "3.5929356701672077\n",
      "3.5708740465343\n",
      "3.54474039003253\n",
      "3.7085160203278065\n",
      "3.507671555504203\n",
      "3.99835111387074\n",
      "3.7973966524004936\n",
      "3.587772523984313\n",
      "3.4648120142519474\n",
      "3.4002724159508944\n",
      "3.563120011240244\n",
      "3.3955638110637665\n",
      "3.34822129458189\n",
      "3.2875560773536563\n",
      "3.2010327745229006\n",
      "3.1636792719364166\n",
      "3.5821456275880337\n",
      "3.1351832281798124\n",
      "3.0986795546486974\n",
      "3.0654954072088003\n",
      "3.0285675628110766\n",
      "3.333123179152608\n",
      "3.1664483286440372\n",
      "2.9550097277387977\n",
      "3.0714625595137477\n",
      "2.851923367008567\n",
      "2.8107613436877728\n",
      "2.755642200820148\n",
      "2.8000428378582\n",
      "2.6766177229583263\n",
      "2.9872500458732247\n",
      "2.6372665241360664\n",
      "2.5576786580495536\n",
      "3.0350669221952558\n",
      "2.5435331827029586\n",
      "2.4499721378087997\n",
      "2.213766091503203\n",
      "2.1797784701921046\n",
      "2.176648164168\n",
      "2.1154938065446913\n",
      "2.3147251969203353\n",
      "1.9492831882089376\n",
      "1.9026803206652403\n",
      "1.8097410649061203\n",
      "1.8044218432623893\n",
      "1.6882948810234666\n",
      "1.619357108604163\n",
      "1.6280760364606977\n"
     ]
    }
   ],
   "source": [
    "mlp = MLP()\n",
    "loss_function = nn.BCELoss()\n",
    "optimizer = torch.optim.Adam(mlp.parameters(), lr=0.001)\n",
    "\n",
    "dataloader = DataLoader(dataset=train_dataset,batch_size = 10,shuffle=True)\n",
    "\n",
    "for EPOCH in range(3500):\n",
    "    current_loss = 0.0\n",
    "    for i, data_i in enumerate(dataloader, 0):\n",
    "        inputs, targets = data_i\n",
    "        optimizer.zero_grad()\n",
    "        outputs = mlp.forward(inputs.float())\n",
    "        loss =  loss_function(outputs.flatten(), targets.float())\n",
    "        loss.backward() \n",
    "        optimizer.step()\n",
    "        current_loss += loss.item()\n",
    "    if EPOCH%50 == 0:\n",
    "        print(current_loss)"
   ]
  },
  {
   "cell_type": "markdown",
   "metadata": {
    "id": "aW7UC4dB-d4U"
   },
   "source": [
    "## Evaluate training dataset"
   ]
  },
  {
   "cell_type": "code",
   "execution_count": 16,
   "metadata": {
    "id": "oUgDjY7gE2jF"
   },
   "outputs": [],
   "source": [
    "dataloader = DataLoader(dataset=train_dataset,shuffle=True)\n",
    "\n",
    "y_pred = []\n",
    "y_true = []\n",
    "for i, data_i in enumerate(dataloader, 0):\n",
    "  inputs, targets = data_i\n",
    "  outputs = mlp.forward(inputs.float())\n",
    "  y_true.append(int(targets))\n",
    "  if outputs > 0.5:\n",
    "    y_pred.append(1)\n",
    "  else:\n",
    "    y_pred.append(0)\n",
    "\n"
   ]
  },
  {
   "cell_type": "code",
   "execution_count": 17,
   "metadata": {
    "colab": {
     "base_uri": "https://localhost:8080/",
     "height": 282
    },
    "id": "mXKxW0c12j5T",
    "outputId": "f9ca3121-ecb5-4078-846c-04d90b815773"
   },
   "outputs": [
    {
     "data": {
      "text/plain": [
       "<matplotlib.axes._subplots.AxesSubplot at 0x7f8dff943c50>"
      ]
     },
     "execution_count": 17,
     "metadata": {},
     "output_type": "execute_result"
    },
    {
     "data": {
      "image/png": "[encoded data removed]",
      "text/plain": [
       "<Figure size 432x288 with 2 Axes>"
      ]
     },
     "metadata": {
      "needs_background": "light"
     },
     "output_type": "display_data"
    }
   ],
   "source": [
    "from sklearn.metrics import confusion_matrix\n",
    "\n",
    "import seaborn as sns\n",
    "\n",
    "sns.heatmap(data=confusion_matrix(y_true,y_pred),annot=True)"
   ]
  },
  {
   "cell_type": "code",
   "execution_count": 18,
   "metadata": {
    "colab": {
     "base_uri": "https://localhost:8080/"
    },
    "id": "_-SqXwC_3dPL",
    "outputId": "1c3266db-8300-4952-8423-e32860326c63"
   },
   "outputs": [
    {
     "data": {
      "text/plain": [
       "0.9692307692307692"
      ]
     },
     "execution_count": 18,
     "metadata": {},
     "output_type": "execute_result"
    }
   ],
   "source": [
    "from sklearn.metrics import accuracy_score\n",
    "\n",
    "accuracy_score(y_true,y_pred)"
   ]
  },
  {
   "cell_type": "markdown",
   "metadata": {
    "id": "dU3_If2g-i5J"
   },
   "source": [
    "## Evaluate test dataset"
   ]
  },
  {
   "cell_type": "code",
   "execution_count": 19,
   "metadata": {
    "id": "kVFe0oEcFWKu"
   },
   "outputs": [],
   "source": [
    "dataloader = DataLoader(dataset=test_dataset,shuffle=True)\n",
    "y_pred = []\n",
    "y_true = []\n",
    "for i, data_i in enumerate(dataloader, 0):\n",
    "  inputs, targets = data_i\n",
    "  outputs = mlp.forward(inputs.float())\n",
    "  y_true.append(int(targets))\n",
    "  if outputs > 0.5:\n",
    "    y_pred.append(1)\n",
    "  else:\n",
    "    y_pred.append(0)"
   ]
  },
  {
   "cell_type": "code",
   "execution_count": 20,
   "metadata": {
    "colab": {
     "base_uri": "https://localhost:8080/",
     "height": 282
    },
    "id": "CTZggf9G3_Gf",
    "outputId": "36e91bf5-2fb1-494c-c26d-5e6d1b736d65"
   },
   "outputs": [
    {
     "data": {
      "text/plain": [
       "<matplotlib.axes._subplots.AxesSubplot at 0x7f8dffcfaed0>"
      ]
     },
     "execution_count": 20,
     "metadata": {},
     "output_type": "execute_result"
    },
    {
     "data": {
      "image/png": "[encoded data removed]",
      "text/plain": [
       "<Figure size 432x288 with 2 Axes>"
      ]
     },
     "metadata": {
      "needs_background": "light"
     },
     "output_type": "display_data"
    }
   ],
   "source": [
    "from sklearn.metrics import confusion_matrix\n",
    "\n",
    "import seaborn as sns\n",
    "\n",
    "sns.heatmap(data=confusion_matrix(y_true,y_pred),annot=True)"
   ]
  },
  {
   "cell_type": "code",
   "execution_count": 21,
   "metadata": {
    "colab": {
     "base_uri": "https://localhost:8080/"
    },
    "id": "uccEazp83_Ne",
    "outputId": "5b3cf4fd-9229-40e1-a217-de8f5e37ec30"
   },
   "outputs": [
    {
     "data": {
      "text/plain": [
       "0.9076923076923077"
      ]
     },
     "execution_count": 21,
     "metadata": {},
     "output_type": "execute_result"
    }
   ],
   "source": [
    "from sklearn.metrics import accuracy_score\n",
    "\n",
    "accuracy_score(y_true,y_pred)"
   ]
  },
  {
   "cell_type": "code",
   "execution_count": 37,
   "metadata": {
    "id": "Yape7uPy_5uX"
   },
   "outputs": [],
   "source": [
    "from sklearn.model_selection import train_test_split\n",
    "\n",
    "X_train, X_test, y_train, y_test = train_test_split(train_X.detach().numpy(),train_Y.detach().numpy(),test_size = 0.2)"
   ]
  },
  {
   "cell_type": "markdown",
   "metadata": {
    "id": "n0RTn9Cs-i5L"
   },
   "source": [
    "## Logistic Regression"
   ]
  },
  {
   "cell_type": "code",
   "execution_count": 39,
   "metadata": {
    "colab": {
     "base_uri": "https://localhost:8080/",
     "height": 317
    },
    "id": "HzL9_19Y9aEK",
    "outputId": "e5ced8e1-3c18-436e-a7db-90238ac13f6e"
   },
   "outputs": [
    {
     "name": "stdout",
     "output_type": "stream",
     "text": [
      "0.8413461538461539\n",
      "0.7692307692307693\n"
     ]
    },
    {
     "data": {
      "text/plain": [
       "<matplotlib.axes._subplots.AxesSubplot at 0x7f8dfdaf4c10>"
      ]
     },
     "execution_count": 39,
     "metadata": {},
     "output_type": "execute_result"
    },
    {
     "data": {
      "image/png": "[encoded data removed]",
      "text/plain": [
       "<Figure size 432x288 with 2 Axes>"
      ]
     },
     "metadata": {
      "needs_background": "light"
     },
     "output_type": "display_data"
    }
   ],
   "source": [
    "from sklearn.linear_model import LogisticRegression\n",
    "\n",
    "\n",
    "clf = LogisticRegression().fit(X_train,y_train)\n",
    "\n",
    "y_pred = clf.predict(X_train)\n",
    "print(accuracy_score(y_train,y_pred))\n",
    "y_pred = clf.predict(X_test)\n",
    "print(accuracy_score(y_test,y_pred))\n",
    "sns.heatmap(data=confusion_matrix(y_test,y_pred),annot=True)"
   ]
  },
  {
   "cell_type": "markdown",
   "metadata": {
    "id": "Nlw3XrQV_wTP"
   },
   "source": [
    "## Random Forest"
   ]
  },
  {
   "cell_type": "code",
   "execution_count": 40,
   "metadata": {
    "colab": {
     "base_uri": "https://localhost:8080/",
     "height": 317
    },
    "id": "0Jcl_uQq--IY",
    "outputId": "bb255561-a8f9-4b8f-a47b-ff38b1d65f69"
   },
   "outputs": [
    {
     "name": "stdout",
     "output_type": "stream",
     "text": [
      "1.0\n",
      "0.9230769230769231\n"
     ]
    },
    {
     "data": {
      "text/plain": [
       "<matplotlib.axes._subplots.AxesSubplot at 0x7f8dfdb921d0>"
      ]
     },
     "execution_count": 40,
     "metadata": {},
     "output_type": "execute_result"
    },
    {
     "data": {
      "image/png": "[encoded data removed]",
      "text/plain": [
       "<Figure size 432x288 with 2 Axes>"
      ]
     },
     "metadata": {
      "needs_background": "light"
     },
     "output_type": "display_data"
    }
   ],
   "source": [
    "from sklearn.ensemble import RandomForestClassifier\n",
    "\n",
    "clf = RandomForestClassifier().fit(X_train,y_train)\n",
    "\n",
    "y_pred = clf.predict(X_train)\n",
    "print(accuracy_score(y_train,y_pred))\n",
    "y_pred = clf.predict(X_test)\n",
    "print(accuracy_score(y_test,y_pred))\n",
    "sns.heatmap(data=confusion_matrix(y_test,y_pred),annot=True)"
   ]
  },
  {
   "cell_type": "code",
   "execution_count": 41,
   "metadata": {
    "id": "nlrMcttIBASG"
   },
   "outputs": [],
   "source": [
    "X_train, X_test, y_train, y_test = train_test_split(X.detach().numpy(),Y.detach().numpy(),test_size = 0.2)"
   ]
  },
  {
   "cell_type": "code",
   "execution_count": 42,
   "metadata": {
    "colab": {
     "base_uri": "https://localhost:8080/",
     "height": 317
    },
    "id": "OJWjsrQ8BHY5",
    "outputId": "4ecd6832-ce6a-4087-dacf-d667d3fe92e8"
   },
   "outputs": [
    {
     "name": "stdout",
     "output_type": "stream",
     "text": [
      "1.0\n",
      "0.8424657534246576\n"
     ]
    },
    {
     "data": {
      "text/plain": [
       "<matplotlib.axes._subplots.AxesSubplot at 0x7f8dfb49aa50>"
      ]
     },
     "execution_count": 42,
     "metadata": {},
     "output_type": "execute_result"
    },
    {
     "data": {
      "image/png": "[encoded data removed]",
      "text/plain": [
       "<Figure size 432x288 with 2 Axes>"
      ]
     },
     "metadata": {
      "needs_background": "light"
     },
     "output_type": "display_data"
    }
   ],
   "source": [
    "from sklearn.ensemble import RandomForestClassifier\n",
    "\n",
    "clf = RandomForestClassifier().fit(X_train,y_train)\n",
    "\n",
    "y_pred = clf.predict(X_train)\n",
    "print(accuracy_score(y_train,y_pred))\n",
    "y_pred = clf.predict(X_test)\n",
    "print(accuracy_score(y_test,y_pred))\n",
    "sns.heatmap(data=confusion_matrix(y_test,y_pred),annot=True)"
   ]
  },
  {
   "cell_type": "markdown",
   "metadata": {
    "id": "UlHtjIWokDKl"
   },
   "source": [
    "## SVM"
   ]
  },
  {
   "cell_type": "code",
   "execution_count": 43,
   "metadata": {
    "id": "XTbtVmrqQEdP"
   },
   "outputs": [],
   "source": [
    "X_train, X_test, y_train, y_test = train_test_split(train_X.detach().numpy(),train_Y.detach().numpy(),test_size = 0.2)"
   ]
  },
  {
   "cell_type": "code",
   "execution_count": 44,
   "metadata": {
    "colab": {
     "base_uri": "https://localhost:8080/",
     "height": 317
    },
    "id": "W0Ib8KDnP4gY",
    "outputId": "ed28871f-0756-4058-d12a-af159631b012"
   },
   "outputs": [
    {
     "name": "stdout",
     "output_type": "stream",
     "text": [
      "0.9134615384615384\n",
      "0.8846153846153846\n"
     ]
    },
    {
     "data": {
      "text/plain": [
       "<matplotlib.axes._subplots.AxesSubplot at 0x7f8dfb4a8810>"
      ]
     },
     "execution_count": 44,
     "metadata": {},
     "output_type": "execute_result"
    },
    {
     "data": {
      "image/png": "[encoded data removed]",
      "text/plain": [
       "<Figure size 432x288 with 2 Axes>"
      ]
     },
     "metadata": {
      "needs_background": "light"
     },
     "output_type": "display_data"
    }
   ],
   "source": [
    "from sklearn.svm import SVC\n",
    "\n",
    "clf = SVC().fit(X_train,y_train)\n",
    "\n",
    "y_pred = clf.predict(X_train)\n",
    "print(accuracy_score(y_train,y_pred))\n",
    "y_pred = clf.predict(X_test)\n",
    "print(accuracy_score(y_test,y_pred))\n",
    "sns.heatmap(data=confusion_matrix(y_test,y_pred),annot=True)"
   ]
  },
  {
   "cell_type": "code",
   "execution_count": 45,
   "metadata": {
    "id": "UwPgJTgaQN4q"
   },
   "outputs": [],
   "source": [
    "X_train, X_test, y_train, y_test = train_test_split(X.detach().numpy(),Y.detach().numpy(),test_size = 0.2)"
   ]
  },
  {
   "cell_type": "code",
   "execution_count": 46,
   "metadata": {
    "colab": {
     "base_uri": "https://localhost:8080/",
     "height": 317
    },
    "id": "l7Kae12uQPfW",
    "outputId": "c90c8905-7e18-40e8-f314-1ecb0764b47c"
   },
   "outputs": [
    {
     "name": "stdout",
     "output_type": "stream",
     "text": [
      "0.815068493150685\n",
      "0.8561643835616438\n"
     ]
    },
    {
     "data": {
      "text/plain": [
       "<matplotlib.axes._subplots.AxesSubplot at 0x7f8dfb36fb90>"
      ]
     },
     "execution_count": 46,
     "metadata": {},
     "output_type": "execute_result"
    },
    {
     "data": {
      "image/png": "[encoded data removed]",
      "text/plain": [
       "<Figure size 432x288 with 2 Axes>"
      ]
     },
     "metadata": {
      "needs_background": "light"
     },
     "output_type": "display_data"
    }
   ],
   "source": [
    "from sklearn.svm import SVC\n",
    "\n",
    "clf = SVC().fit(X_train,y_train)\n",
    "\n",
    "y_pred = clf.predict(X_train)\n",
    "print(accuracy_score(y_train,y_pred))\n",
    "y_pred = clf.predict(X_test)\n",
    "print(accuracy_score(y_test,y_pred))\n",
    "sns.heatmap(data=confusion_matrix(y_test,y_pred),annot=True)"
   ]
  }
 ],
 "metadata": {
  "colab": {
   "collapsed_sections": [],
   "name": "DeepLearning.ipynb",
   "provenance": []
  },
  "gpuClass": "standard",
  "kernelspec": {
   "display_name": "Python 3 (ipykernel)",
   "language": "python",
   "name": "python3"
  },
  "language_info": {
   "codemirror_mode": {
    "name": "ipython",
    "version": 3
   },
   "file_extension": ".py",
   "mimetype": "text/x-python",
   "name": "python",
   "nbconvert_exporter": "python",
   "pygments_lexer": "ipython3",
   "version": "3.9.2"
  },
  "latex_envs": {
   "LaTeX_envs_menu_present": true,
   "autoclose": false,
   "autocomplete": true,
   "bibliofile": "biblio.bib",
   "cite_by": "apalike",
   "current_citInitial": 1,
   "eqLabelWithNumbers": true,
   "eqNumInitial": 1,
   "hotkeys": {
    "equation": "Ctrl-E",
    "itemize": "Ctrl-I"
   },
   "labels_anchors": false,
   "latex_user_defs": false,
   "report_style_numbering": false,
   "user_envs_cfg": false
  }
 },
 "nbformat": 4,
 "nbformat_minor": 1
}
